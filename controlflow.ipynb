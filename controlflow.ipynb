{
 "cells": [
  {
   "cell_type": "code",
   "execution_count": 1,
   "metadata": {},
   "outputs": [
    {
     "name": "stdout",
     "output_type": "stream",
     "text": [
      "Hello World\n"
     ]
    }
   ],
   "source": [
    "print(\"Hello World\")"
   ]
  },
  {
   "cell_type": "code",
   "execution_count": 2,
   "metadata": {},
   "outputs": [],
   "source": [
    "a = 100\n",
    "b = 200"
   ]
  },
  {
   "cell_type": "code",
   "execution_count": 4,
   "metadata": {},
   "outputs": [
    {
     "name": "stdout",
     "output_type": "stream",
     "text": [
      "100 200\n"
     ]
    }
   ],
   "source": [
    "print(a,b)"
   ]
  },
  {
   "cell_type": "code",
   "execution_count": 3,
   "metadata": {},
   "outputs": [
    {
     "name": "stdout",
     "output_type": "stream",
     "text": [
      "100 200\n"
     ]
    }
   ],
   "source": [
    "print(a,b)"
   ]
  },
  {
   "cell_type": "code",
   "execution_count": 1,
   "metadata": {},
   "outputs": [
    {
     "name": "stdout",
     "output_type": "stream",
     "text": [
      "Hello Lucency\n",
      "Hello Lucency\n",
      "Hello Lucency\n"
     ]
    }
   ],
   "source": [
    "print(\"Hello Lucency\")\n",
    "print(\"Hello Lucency\")\n",
    "print(\"Hello Lucency\")"
   ]
  },
  {
   "cell_type": "code",
   "execution_count": 2,
   "metadata": {},
   "outputs": [
    {
     "name": "stdout",
     "output_type": "stream",
     "text": [
      "Hello\n"
     ]
    }
   ],
   "source": [
    "a = 10\n",
    "if a!= 10:\n",
    "    print(\"Hello Lucency\")\n",
    "print(\"Hello\")"
   ]
  },
  {
   "cell_type": "markdown",
   "metadata": {},
   "source": [
    "# Conditional Statements"
   ]
  },
  {
   "cell_type": "raw",
   "metadata": {},
   "source": [
    "   Based on condition Interperter either executes or skip few lines/statements"
   ]
  },
  {
   "cell_type": "markdown",
   "metadata": {},
   "source": [
    "### what is a Condition?"
   ]
  },
  {
   "cell_type": "raw",
   "metadata": {},
   "source": [
    "Generally a condition is nothing but using relational operator betweeb two similiar data type. Also it can be boolean value.\n",
    "\n",
    "In case of python, Any statement that outcomes a boolean result can be used as condition."
   ]
  },
  {
   "cell_type": "markdown",
   "metadata": {},
   "source": [
    "1. 5 > 3 ---> using relational operator between two similiar data types. So I can this one as a condition\n",
    "2. 10.8 < 15 ----> Python is a dynamic typing programming language, 15 will be converted as a float number automatically. \n",
    "3. True\n",
    "4. 5  ---> dynamic typing, converted into boolean automatically. So it also can be considered as condition"
   ]
  },
  {
   "cell_type": "markdown",
   "metadata": {},
   "source": [
    "##### Basic syntax of conditional statement using if"
   ]
  },
  {
   "cell_type": "raw",
   "metadata": {},
   "source": [
    "if <condition>:\n",
    "    st1\n",
    "    st2\n",
    "    |\n",
    "    |\n",
    "    |\n",
    "    stn\n",
    "statements outside condition\n",
    "\n",
    "Based on above syntax the statement st1 to stn are executed only if condition satisfies(outcome id True)"
   ]
  },
  {
   "cell_type": "markdown",
   "metadata": {},
   "source": [
    "###### Indentation\n",
    "is maintaning an same even number of spaces for all the statements inside a block"
   ]
  },
  {
   "cell_type": "code",
   "execution_count": 3,
   "metadata": {},
   "outputs": [
    {
     "name": "stdout",
     "output_type": "stream",
     "text": [
      "5 is greater \n",
      "inside\n",
      "Lucency\n"
     ]
    }
   ],
   "source": [
    "if 5>3:\n",
    "    print(\"5 is greater \")\n",
    "    print(\"inside\")\n",
    "print(\"Lucency\")"
   ]
  },
  {
   "cell_type": "code",
   "execution_count": 4,
   "metadata": {},
   "outputs": [
    {
     "name": "stdout",
     "output_type": "stream",
     "text": [
      "Lucency\n"
     ]
    }
   ],
   "source": [
    "if 5>10:\n",
    "    print(\"5 is greater \")\n",
    "    print(\"inside\")\n",
    "print(\"Lucency\")"
   ]
  },
  {
   "cell_type": "code",
   "execution_count": 5,
   "metadata": {},
   "outputs": [
    {
     "ename": "IndentationError",
     "evalue": "unexpected indent (<ipython-input-5-a4b09289a167>, line 4)",
     "output_type": "error",
     "traceback": [
      "\u001b[1;36m  File \u001b[1;32m\"<ipython-input-5-a4b09289a167>\"\u001b[1;36m, line \u001b[1;32m4\u001b[0m\n\u001b[1;33m    print(\"inside\")\u001b[0m\n\u001b[1;37m    ^\u001b[0m\n\u001b[1;31mIndentationError\u001b[0m\u001b[1;31m:\u001b[0m unexpected indent\n"
     ]
    }
   ],
   "source": [
    "if 5>3:\n",
    "    print(\"5 is greater \")\n",
    "print(\"Lucency\")\n",
    "    print(\"inside\")"
   ]
  },
  {
   "cell_type": "raw",
   "metadata": {},
   "source": [
    "All the statements in a block must be consecutive"
   ]
  },
  {
   "cell_type": "markdown",
   "metadata": {},
   "source": [
    "## different scenarios in conditional statement\n",
    "\n",
    "#### 1. execute block of statements only if condition satisfies"
   ]
  },
  {
   "cell_type": "code",
   "execution_count": 7,
   "metadata": {},
   "outputs": [
    {
     "name": "stdout",
     "output_type": "stream",
     "text": [
      "enter a value 10\n",
      "enter b value 5\n",
      "a is greater \n",
      "Hello Lucency\n",
      "a,b = ,10,5\n",
      "after swap a,b = ,5,10\n",
      "Hello I am done\n"
     ]
    }
   ],
   "source": [
    "a = int(input(\"enter a value \"))\n",
    "b = int(input(\"enter b value \"))\n",
    "if a>b:\n",
    "    print(\"a is greater \")\n",
    "    print(\"Hello Lucency\")\n",
    "    print(\"a,b = \", a,b, sep=',')\n",
    "    a,b = b,a\n",
    "    print(\"after swap a,b = \", a,b, sep=',')\n",
    "print(\"Hello I am done\")"
   ]
  },
  {
   "cell_type": "code",
   "execution_count": 8,
   "metadata": {},
   "outputs": [
    {
     "name": "stdout",
     "output_type": "stream",
     "text": [
      "enter a value 20\n",
      "enter b value 40\n",
      "Hello I am done\n"
     ]
    }
   ],
   "source": [
    "a = int(input(\"enter a value \"))\n",
    "b = int(input(\"enter b value \"))\n",
    "if a>b:\n",
    "    print(\"a is greater \")\n",
    "    print(\"Hello Lucency\")\n",
    "    print(\"a,b = \", a,b, sep=',')\n",
    "    a,b = b,a\n",
    "    print(\"after swap a,b = \", a,b, sep=',')\n",
    "print(\"Hello I am done\")"
   ]
  },
  {
   "cell_type": "markdown",
   "metadata": {},
   "source": [
    "#### 2. execute block of statements if condition satisfies otherwise execute alternative block of statements\n",
    "1. Here we will introducing new keyword call `else`\n",
    "2. if condition satisfies it will execute `if block` otherwise it executes `else block`"
   ]
  },
  {
   "cell_type": "code",
   "execution_count": 9,
   "metadata": {},
   "outputs": [
    {
     "name": "stdout",
     "output_type": "stream",
     "text": [
      "enter a value 10\n",
      "enter b value 5\n",
      "a is greater \n",
      "Hello Lucency\n",
      "a,b = ,10,5\n",
      "after swap a,b = ,5,10\n",
      "Hello I am done\n"
     ]
    }
   ],
   "source": [
    "a = int(input(\"enter a value \"))\n",
    "b = int(input(\"enter b value \"))\n",
    "if a>b:\n",
    "    print(\"a is greater \")\n",
    "    print(\"Hello Lucency\")\n",
    "    print(\"a,b = \", a,b, sep=',')\n",
    "    a,b = b,a\n",
    "    print(\"after swap a,b = \", a,b, sep=',')\n",
    "else:\n",
    "    print(\"b is greater\")\n",
    "    print(\"a,b =\", a,b)\n",
    "print(\"Hello I am done\")"
   ]
  },
  {
   "cell_type": "code",
   "execution_count": 10,
   "metadata": {},
   "outputs": [
    {
     "name": "stdout",
     "output_type": "stream",
     "text": [
      "enter a value 20\n",
      "enter b value 40\n",
      "b is greater\n",
      "a,b = 20 40\n",
      "Hello I am done\n"
     ]
    }
   ],
   "source": [
    "a = int(input(\"enter a value \"))\n",
    "b = int(input(\"enter b value \"))\n",
    "if a>b:\n",
    "    print(\"a is greater \")\n",
    "    print(\"Hello Lucency\")\n",
    "    print(\"a,b = \", a,b, sep=',')\n",
    "    a,b = b,a\n",
    "    print(\"after swap a,b = \", a,b, sep=',')\n",
    "else:\n",
    "    print(\"b is greater\")\n",
    "    print(\"a,b =\", a,b)\n",
    "print(\"Hello I am done\")"
   ]
  },
  {
   "cell_type": "code",
   "execution_count": 11,
   "metadata": {},
   "outputs": [
    {
     "ename": "SyntaxError",
     "evalue": "invalid syntax (<ipython-input-11-4d2b513cb398>, line 7)",
     "output_type": "error",
     "traceback": [
      "\u001b[1;36m  File \u001b[1;32m\"<ipython-input-11-4d2b513cb398>\"\u001b[1;36m, line \u001b[1;32m7\u001b[0m\n\u001b[1;33m    else:\u001b[0m\n\u001b[1;37m       ^\u001b[0m\n\u001b[1;31mSyntaxError\u001b[0m\u001b[1;31m:\u001b[0m invalid syntax\n"
     ]
    }
   ],
   "source": [
    "a = int(input(\"enter a value \"))\n",
    "b = int(input(\"enter b value \"))\n",
    "if a>b:\n",
    "    print(\"a is greater \")\n",
    "    print(\"a,b = \", a,b)\n",
    "print(\"Hello I am done\")\n",
    "else:\n",
    "    print(\"b is greater\")\n",
    "    print(\"a,b =\", a,b)"
   ]
  },
  {
   "cell_type": "raw",
   "metadata": {},
   "source": [
    "Else block cannot written separately.\n",
    "it must follow the if block always. No statements can be written/inserted between if and else blocks\n",
    "Also remember if and else should maintain same column"
   ]
  },
  {
   "cell_type": "markdown",
   "metadata": {},
   "source": [
    "#### 3. Execute block of statements based on compound condition"
   ]
  },
  {
   "cell_type": "markdown",
   "metadata": {},
   "source": [
    "###### compound condition???\n",
    "\n",
    "A compound condition is an combibation of two or more condition. We want to achieve single result based on multiple conditions.\n",
    "In order to combine the multiple conditions, We will be using binary logical operators\n",
    "\n",
    "1. binary logical operators are `and`, `or`\n",
    "2. unary logical operator is `not`"
   ]
  },
  {
   "cell_type": "raw",
   "metadata": {},
   "source": [
    "I had a scenario, a number should between 10 and 30. Also it shouldn't be equal to 15 and 17"
   ]
  },
  {
   "cell_type": "code",
   "execution_count": 3,
   "metadata": {},
   "outputs": [
    {
     "name": "stdout",
     "output_type": "stream",
     "text": [
      "True\n"
     ]
    }
   ],
   "source": [
    "a = 13\n",
    "print(a == 11 or a == 12 or a == 13 or a == 14)"
   ]
  },
  {
   "cell_type": "code",
   "execution_count": 4,
   "metadata": {},
   "outputs": [
    {
     "data": {
      "text/plain": [
       "True"
      ]
     },
     "execution_count": 4,
     "metadata": {},
     "output_type": "execute_result"
    }
   ],
   "source": [
    "a > 10 and a <= 30 and a != 15 and a != 17\n",
    "# True and True and True and True ---> True"
   ]
  },
  {
   "cell_type": "code",
   "execution_count": 5,
   "metadata": {},
   "outputs": [
    {
     "data": {
      "text/plain": [
       "False"
      ]
     },
     "execution_count": 5,
     "metadata": {},
     "output_type": "execute_result"
    }
   ],
   "source": [
    "a = 15\n",
    "a > 10 and a <= 30 and a != 15 and a != 17\n",
    "# True and True and False and True ---> False"
   ]
  },
  {
   "cell_type": "code",
   "execution_count": 6,
   "metadata": {},
   "outputs": [
    {
     "name": "stdout",
     "output_type": "stream",
     "text": [
      "enter a value 30\n",
      "enter b value 20\n",
      "enter c value 10\n",
      "a holds greater value \n"
     ]
    }
   ],
   "source": [
    "a = int(input(\"enter a value \"))\n",
    "b = int(input(\"enter b value \"))\n",
    "c = int(input(\"enter c value \"))\n",
    "if a>b and a>c:\n",
    "    print(\"a holds greater value \")"
   ]
  },
  {
   "cell_type": "code",
   "execution_count": 7,
   "metadata": {},
   "outputs": [
    {
     "name": "stdout",
     "output_type": "stream",
     "text": [
      "enter a value 30\n",
      "enter b value 40\n",
      "enter c value 10\n",
      "a doesn't hold greater value\n"
     ]
    }
   ],
   "source": [
    "a = int(input(\"enter a value \"))\n",
    "b = int(input(\"enter b value \"))\n",
    "c = int(input(\"enter c value \"))\n",
    "if a>b and a>c:\n",
    "    print(\"a holds greater value \")\n",
    "else:\n",
    "    print(\"a doesn't hold greater value\")"
   ]
  },
  {
   "cell_type": "code",
   "execution_count": 8,
   "metadata": {},
   "outputs": [
    {
     "name": "stdout",
     "output_type": "stream",
     "text": [
      "enter a value 45\n",
      "enter b value 40\n",
      "enter c value 29\n",
      "a holds greater value\n"
     ]
    }
   ],
   "source": [
    "a = int(input(\"enter a value \"))\n",
    "b = int(input(\"enter b value \"))\n",
    "c = int(input(\"enter c value \"))\n",
    "if a>b and a>c:\n",
    "    print(\"a holds greater value\")\n",
    "if b>a and b>c:\n",
    "    print(\"b holds greater value\")\n",
    "if c>a and c>b:\n",
    "    print(\"c holds greater value\")"
   ]
  },
  {
   "cell_type": "markdown",
   "metadata": {},
   "source": [
    "###### 4. Maintaining multiple alternative"
   ]
  },
  {
   "cell_type": "markdown",
   "metadata": {},
   "source": [
    "Here I will use a new keyword called `elif`"
   ]
  },
  {
   "cell_type": "raw",
   "metadata": {},
   "source": [
    "We will see the same scenario to find the greatest among the 3 variables"
   ]
  },
  {
   "cell_type": "raw",
   "metadata": {},
   "source": [
    "if <cond1>:\n",
    "    {{statements in if block }}\n",
    "elif <cond1>:\n",
    "    {{ statements in 1st elif block }}\n",
    "elif <cond3>:\n",
    "    {{ statements in 2nd elif block }}\n",
    "|\n",
    "|\n",
    "|\n",
    "elif <condn>:\n",
    "    {{ statements in nth elif block }}\n",
    "else:\n",
    "    {{ statments in else block }}"
   ]
  },
  {
   "cell_type": "markdown",
   "metadata": {},
   "source": [
    "1. Always elif and else blocks are optional\n",
    "2. elif must be followed by if block\n",
    "3. else block can be followed by either if block or elif block. if block elif exists then else block must be followed by elif only\n",
    "4. if the condition of if block fails, then only it verifies first elif block and so on.\n",
    "5. we can maintain as many as elif block based on requirement but only else block can be maintained"
   ]
  },
  {
   "cell_type": "code",
   "execution_count": null,
   "metadata": {},
   "outputs": [],
   "source": [
    "a = int(input(\"enter a value \"))\n",
    "b = int(input(\"enter b value \"))\n",
    "c = int(input(\"enter c value \"))"
   ]
  }
 ],
 "metadata": {
  "kernelspec": {
   "display_name": "Python 3",
   "language": "python",
   "name": "python3"
  },
  "language_info": {
   "codemirror_mode": {
    "name": "ipython",
    "version": 3
   },
   "file_extension": ".py",
   "mimetype": "text/x-python",
   "name": "python",
   "nbconvert_exporter": "python",
   "pygments_lexer": "ipython3",
   "version": "3.7.4"
  }
 },
 "nbformat": 4,
 "nbformat_minor": 2
}
